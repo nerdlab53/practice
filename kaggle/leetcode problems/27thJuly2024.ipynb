{
 "cells": [
  {
   "cell_type": "markdown",
   "metadata": {},
   "source": [
    "### CF - B. Effective Approach Round 140 (Div.2)"
   ]
  },
  {
   "cell_type": "code",
   "execution_count": 4,
   "metadata": {},
   "outputs": [
    {
     "name": "stdout",
     "output_type": "stream",
     "text": [
      "[1, 2, 3]\n"
     ]
    }
   ],
   "source": [
    "n = int(input())\n",
    "array = []\n",
    "for _ in range(n):\n",
    "    val = int(input())\n",
    "    array.append(val)\n",
    "m = int(input())\n",
    "queries = []\n",
    "for _ in range(m):\n",
    "    val = int(input())\n",
    "    queries.append(val)\n",
    "\n",
    "# Vasya's Approach\n",
    "def vasya():\n",
    "    elements_to_find = queries\n",
    "    search_space = array\n",
    "    comparisons = 0\n",
    "    for i in elements_to_find:\n",
    "        for j in search_space:\n",
    "            if i == j:\n",
    "                comparisons = comparisons + 1\n",
    "                break\n",
    "            else:\n",
    "                comparisons = comparisons + 1\n",
    "\n",
    "# Sasha's Approach   \n",
    "def sasha():\n",
    "    elements_to_find = queries\n",
    "    search_space = array[::-1]\n",
    "    comparisons = 0\n",
    "    for i in elements_to_find:\n",
    "        for j in search_space:\n",
    "            if i == j:\n",
    "                comparisons = comparisons + 1\n",
    "                break\n",
    "            else:\n",
    "                comparisons = comparisons + 1\n",
    "\n",
    "print(vasya(), sasha())"
   ]
  }
 ],
 "metadata": {
  "kernelspec": {
   "display_name": "torch2",
   "language": "python",
   "name": "torch2"
  },
  "language_info": {
   "codemirror_mode": {
    "name": "ipython",
    "version": 3
   },
   "file_extension": ".py",
   "mimetype": "text/x-python",
   "name": "python",
   "nbconvert_exporter": "python",
   "pygments_lexer": "ipython3",
   "version": "3.11.4"
  }
 },
 "nbformat": 4,
 "nbformat_minor": 2
}
