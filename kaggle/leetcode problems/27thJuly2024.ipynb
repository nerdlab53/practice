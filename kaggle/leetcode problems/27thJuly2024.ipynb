{
 "cells": [
  {
   "cell_type": "markdown",
   "metadata": {},
   "source": [
    "### CF - B. Effective Approach Round 140 (Div.2) (Rated : 1100)\n",
    "### CF - A. Dima and Friends Round 167 (Div. 2) (Rated : 1000)"
   ]
  },
  {
   "cell_type": "code",
   "execution_count": 7,
   "metadata": {},
   "outputs": [
    {
     "name": "stdout",
     "output_type": "stream",
     "text": [
      "1 2\n"
     ]
    }
   ],
   "source": [
    "# Not a good solution TLE\n",
    "n = int(input())\n",
    "array = []\n",
    "for _ in range(n):\n",
    "    val = int(input())\n",
    "    array.append(val)\n",
    "m = int(input())\n",
    "queries = []\n",
    "for _ in range(m):\n",
    "    val = int(input())\n",
    "    queries.append(val)\n",
    "\n",
    "# Vasya's Approach\n",
    "def vasya():\n",
    "    elements_to_find = queries\n",
    "    search_space = array\n",
    "    comparisons = 0\n",
    "    for i in elements_to_find:\n",
    "        for j in search_space:\n",
    "            if i == j:\n",
    "                comparisons = comparisons + 1\n",
    "                break\n",
    "            else:\n",
    "                comparisons = comparisons + 1\n",
    "    return comparisons\n",
    "\n",
    "# Petya's Approach   \n",
    "def petya():\n",
    "    elements_to_find = queries\n",
    "    search_space = array[::-1]\n",
    "    comparisons = 0\n",
    "    for i in elements_to_find:\n",
    "        for j in search_space:\n",
    "            if i == j:\n",
    "                comparisons = comparisons + 1\n",
    "                break\n",
    "            else:\n",
    "                comparisons = comparisons + 1\n",
    "    return comparisons\n",
    "\n",
    "print(vasya(), petya())"
   ]
  },
  {
   "cell_type": "code",
   "execution_count": 13,
   "metadata": {},
   "outputs": [
    {
     "name": "stdout",
     "output_type": "stream",
     "text": [
      "1 2\n"
     ]
    }
   ],
   "source": [
    "# Better solution\n",
    "n = int(input())\n",
    "array = [int(input()) for _ in range(n)]\n",
    "m = int(input())\n",
    "queries = [int(input()) for _ in range(m)]\n",
    "\n",
    "# Store the positions beforehand\n",
    "positions = {ele : idx for idx, ele in enumerate(array)}\n",
    "\n",
    "\"\"\"Instead of doing an O(n*m) comparison we do an O(n+m) comparison, using python simply check for the index if it is present in the \n",
    "array as follows : \"\"\"\n",
    "vasyas_comparisions, petyas_comparisons = 0, 0\n",
    "for q in queries:\n",
    "    idx = positions[q]\n",
    "\n",
    "    vasyas_comparisions += idx+1\n",
    "    petyas_comparisons += (n - idx - 1 + 1)\n",
    "print(vasyas_comparisions, petyas_comparisons)"
   ]
  }
 ],
 "metadata": {
  "kernelspec": {
   "display_name": "torch2",
   "language": "python",
   "name": "torch2"
  },
  "language_info": {
   "codemirror_mode": {
    "name": "ipython",
    "version": 3
   },
   "file_extension": ".py",
   "mimetype": "text/x-python",
   "name": "python",
   "nbconvert_exporter": "python",
   "pygments_lexer": "ipython3",
   "version": "3.11.4"
  }
 },
 "nbformat": 4,
 "nbformat_minor": 2
}
