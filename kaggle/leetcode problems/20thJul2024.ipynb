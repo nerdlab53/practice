{
 "cells": [
  {
   "cell_type": "markdown",
   "metadata": {},
   "source": [
    "### 75. Sort Colors\n",
    "### 274. H-Index\n",
    "### 268. Missing Number\n",
    "### 347. Top K Frequent Elements"
   ]
  },
  {
   "cell_type": "code",
   "execution_count": 92,
   "metadata": {},
   "outputs": [],
   "source": [
    "from typing import List"
   ]
  },
  {
   "cell_type": "code",
   "execution_count": 141,
   "metadata": {},
   "outputs": [],
   "source": [
    "class Solutions:\n",
    "      def betterSortColors(self, nums: List[int]) -> None:\n",
    "            \"\"\" 75. Sort Colors \"\"\"\n",
    "            zeros, ones, twos = 0, 0, len(nums)\n",
    "            for num in nums:\n",
    "                  if num == 0:\n",
    "                        zeros+=1\n",
    "                  elif num == 1:\n",
    "                        ones+=1\n",
    "                  \n",
    "            for i in range(0, zeros):\n",
    "                  nums[i] = 0\n",
    "            for i in range(zeros, zeros+ones):\n",
    "                  nums[i] = 1\n",
    "            for i in range(zeros+ones, twos):\n",
    "                  nums[i] = 2\n",
    "            print(nums)\n",
    "\n",
    "      def hIndex(self, citations: List[int]) -> int:\n",
    "            \"\"\" 274. H-Index \"\"\"\n",
    "            citations.sort()\n",
    "            n = len(citations)\n",
    "            for i in range(len(citations)):\n",
    "                  if citations[i] >= (n - i):\n",
    "                        ans =  n-i\n",
    "                        return ans\n",
    "                  \n",
    "      def missingNumber(self, nums: List[int]) -> int:\n",
    "            max_ele = max(nums)\n",
    "            temp_list = [-1] * (max_ele + 1)\n",
    "            for i in nums:\n",
    "                  temp_list[i] = nums\n",
    "            for i in range(len(temp_list)):\n",
    "                  if temp_list[i] == -1:\n",
    "                        return i\n",
    "                  \n",
    "      def betterMissingNumber(self, nums: List[int]) -> int:\n",
    "            def sum_n(n: int):\n",
    "                  return (n * (n + 1))/2\n",
    "            sum_array = sum(nums)\n",
    "            actual = sum_n(max(nums))\n",
    "            if sum_array != actual:\n",
    "                  return int(actual - sum_array) if (actual - sum_array) > 0 else 0\n",
    "            return len(nums)\n",
    "      def bestMissingNumber(self, nums: List[int]) -> int:\n",
    "            n = len(nums)\n",
    "            expected_sum = n * (n + 1) // 2\n",
    "            actual_sum = sum(nums)\n",
    "            return expected_sum - actual_sum"
   ]
  },
  {
   "cell_type": "code",
   "execution_count": 139,
   "metadata": {},
   "outputs": [
    {
     "name": "stdout",
     "output_type": "stream",
     "text": [
      "[0, 0, 1, 1, 2, 2]\n"
     ]
    },
    {
     "data": {
      "text/plain": [
       "2"
      ]
     },
     "execution_count": 139,
     "metadata": {},
     "output_type": "execute_result"
    }
   ],
   "source": [
    "nums = [2, 0, 2, 1, 1, 0]\n",
    "h = [3, 0, 6, 1, 5]\n",
    "ans = Solutions()\n",
    "ans.betterSortColors(nums)\n",
    "val = ans.hIndex(h)\n",
    "value = ans.missingNumber([3, 0, 1])\n",
    "val\n",
    "value"
   ]
  },
  {
   "cell_type": "code",
   "execution_count": 113,
   "metadata": {},
   "outputs": [
    {
     "name": "stdout",
     "output_type": "stream",
     "text": [
      "[0, 0, 1, 1, 2, 2]\n"
     ]
    }
   ],
   "source": [
    "nums = [2, 0, 2, 1, 1, 0]\n",
    "zeros, ones, twos = 0, 0, len(nums)\n",
    "for num in nums:\n",
    "    if num == 0:\n",
    "            zeros+=1\n",
    "    elif num == 1:\n",
    "            ones+=1\n",
    "    \n",
    "for i in range(0, zeros):\n",
    "        nums[i] = 0\n",
    "for i in range(zeros, zeros+ones):\n",
    "        nums[i] = 1\n",
    "for i in range(zeros+ones, twos):\n",
    "        nums[i] = 2\n",
    "print(nums)"
   ]
  },
  {
   "cell_type": "code",
   "execution_count": 114,
   "metadata": {},
   "outputs": [
    {
     "name": "stdout",
     "output_type": "stream",
     "text": [
      "1\n"
     ]
    }
   ],
   "source": [
    "h = [1, 3, 1]\n",
    "print(ans.hIndex(h))"
   ]
  },
  {
   "cell_type": "code",
   "execution_count": 115,
   "metadata": {},
   "outputs": [],
   "source": [
    "nums = [0, 2]"
   ]
  },
  {
   "cell_type": "code",
   "execution_count": 116,
   "metadata": {},
   "outputs": [],
   "source": [
    "nums = [1]\n",
    "sol = Solutions()\n",
    "val = sol.missingNumber(nums)\n",
    "val"
   ]
  },
  {
   "cell_type": "code",
   "execution_count": 142,
   "metadata": {},
   "outputs": [
    {
     "data": {
      "text/plain": [
       "1"
      ]
     },
     "execution_count": 142,
     "metadata": {},
     "output_type": "execute_result"
    }
   ],
   "source": [
    "solve = Solutions()\n",
    "nums = [1]\n",
    "val = solve.betterMissingNumber(nums)\n",
    "val"
   ]
  },
  {
   "cell_type": "code",
   "execution_count": null,
   "metadata": {},
   "outputs": [],
   "source": []
  }
 ],
 "metadata": {
  "kernelspec": {
   "display_name": "torch2",
   "language": "python",
   "name": "torch2"
  },
  "language_info": {
   "codemirror_mode": {
    "name": "ipython",
    "version": 3
   },
   "file_extension": ".py",
   "mimetype": "text/x-python",
   "name": "python",
   "nbconvert_exporter": "python",
   "pygments_lexer": "ipython3",
   "version": "3.11.4"
  }
 },
 "nbformat": 4,
 "nbformat_minor": 2
}
