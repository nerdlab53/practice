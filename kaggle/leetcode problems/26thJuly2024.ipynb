{
 "cells": [
  {
   "cell_type": "markdown",
   "metadata": {},
   "source": [
    "### CF - A. Beautiful Matrix CF Round 161 (Div. 2)"
   ]
  },
  {
   "cell_type": "code",
   "execution_count": 1,
   "metadata": {},
   "outputs": [],
   "source": [
    "# (1, 5) -> (2, 5) (SR) -> (3, 5) (SR) -> (3, 4) (SC) -> (3, 3) (ANS)"
   ]
  },
  {
   "cell_type": "code",
   "execution_count": 4,
   "metadata": {},
   "outputs": [
    {
     "ename": "IndexError",
     "evalue": "list index out of range",
     "output_type": "error",
     "traceback": [
      "\u001b[0;31m---------------------------------------------------------------------------\u001b[0m",
      "\u001b[0;31mIndexError\u001b[0m                                Traceback (most recent call last)",
      "Cell \u001b[0;32mIn[4], line 7\u001b[0m\n\u001b[1;32m      5\u001b[0m \u001b[38;5;28;01mfor\u001b[39;00m i \u001b[38;5;129;01min\u001b[39;00m \u001b[38;5;28mrange\u001b[39m(\u001b[38;5;241m5\u001b[39m):\n\u001b[1;32m      6\u001b[0m     \u001b[38;5;28;01mfor\u001b[39;00m j \u001b[38;5;129;01min\u001b[39;00m \u001b[38;5;28mrange\u001b[39m(\u001b[38;5;241m5\u001b[39m):\n\u001b[0;32m----> 7\u001b[0m         \u001b[38;5;28;01mif\u001b[39;00m matrix[i][j] \u001b[38;5;241m==\u001b[39m \u001b[38;5;241m1\u001b[39m:\n\u001b[1;32m      8\u001b[0m             X \u001b[38;5;241m=\u001b[39m i\n\u001b[1;32m      9\u001b[0m             y \u001b[38;5;241m=\u001b[39m j\n",
      "\u001b[0;31mIndexError\u001b[0m: list index out of range"
     ]
    }
   ],
   "source": [
    "matrix = []\n",
    "for _ in range(5):\n",
    "    row = list(map(int, input().split()))    \n",
    "    matrix.append(row)\n",
    "for i in range(5):\n",
    "    for j in range(5):\n",
    "        if matrix[i][j] == 1:\n",
    "            X = i\n",
    "            y = j\n",
    "\n",
    "moves = (X - 3 + 1 + y - 3 + 1)\n",
    "print(moves)"
   ]
  },
  {
   "cell_type": "code",
   "execution_count": 20,
   "metadata": {},
   "outputs": [],
   "source": [
    "matrix = [[0, 0, 0, 0, 0], \n",
    "          [0, 0, 0, 0, 0], \n",
    "          [1, 0, 0, 0, 0], \n",
    "          [0, 0, 0, 0, 0], \n",
    "          [0, 0, 0, 0, 0]]"
   ]
  },
  {
   "cell_type": "code",
   "execution_count": 21,
   "metadata": {},
   "outputs": [
    {
     "name": "stdout",
     "output_type": "stream",
     "text": [
      "2\n"
     ]
    }
   ],
   "source": [
    "from typing import List\n",
    "def getmoves(matrix : List[List[int]]):\n",
    "    for _ in range(5):\n",
    "        row = list(map(int, input().split()))    \n",
    "        matrix.append(row)\n",
    "    for i in range(5):\n",
    "        for j in range(5):\n",
    "            if matrix[i][j] == 1:\n",
    "                X = i\n",
    "                y = j\n",
    "                break\n",
    "        if matrix[i][j] == 1:\n",
    "            break\n",
    "\n",
    "    moves = abs(2 - X) + abs(2 - y)\n",
    "    print(moves)\n",
    "getmoves(matrix)"
   ]
  },
  {
   "cell_type": "code",
   "execution_count": null,
   "metadata": {},
   "outputs": [],
   "source": []
  }
 ],
 "metadata": {
  "kernelspec": {
   "display_name": "torch2",
   "language": "python",
   "name": "torch2"
  },
  "language_info": {
   "codemirror_mode": {
    "name": "ipython",
    "version": 3
   },
   "file_extension": ".py",
   "mimetype": "text/x-python",
   "name": "python",
   "nbconvert_exporter": "python",
   "pygments_lexer": "ipython3",
   "version": "3.11.4"
  }
 },
 "nbformat": 4,
 "nbformat_minor": 2
}
