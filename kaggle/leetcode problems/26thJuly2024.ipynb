{
 "cells": [
  {
   "cell_type": "markdown",
   "metadata": {},
   "source": [
    "### CF - A. Beautiful Matrix CF Round 161 (Div. 2)\n",
    "### CF - B. Queue at the School CF Round 163 (Div. 3)"
   ]
  },
  {
   "cell_type": "code",
   "execution_count": 22,
   "metadata": {},
   "outputs": [],
   "source": [
    "# (1, 5) -> (2, 5) (SR) -> (3, 5) (SR) -> (3, 4) (SC) -> (3, 3) (ANS)"
   ]
  },
  {
   "cell_type": "code",
   "execution_count": 20,
   "metadata": {},
   "outputs": [],
   "source": [
    "matrix = [[0, 0, 0, 0, 0], \n",
    "          [0, 0, 0, 0, 0], \n",
    "          [1, 0, 0, 0, 0], \n",
    "          [0, 0, 0, 0, 0], \n",
    "          [0, 0, 0, 0, 0]]"
   ]
  },
  {
   "cell_type": "code",
   "execution_count": 21,
   "metadata": {},
   "outputs": [
    {
     "name": "stdout",
     "output_type": "stream",
     "text": [
      "2\n"
     ]
    }
   ],
   "source": [
    "from typing import List\n",
    "def getmoves(matrix : List[List[int]]):\n",
    "    for _ in range(5):\n",
    "        row = list(map(int, input().split()))    \n",
    "        matrix.append(row)\n",
    "    for i in range(5):\n",
    "        for j in range(5):\n",
    "            if matrix[i][j] == 1:\n",
    "                X = i\n",
    "                y = j\n",
    "                break\n",
    "        if matrix[i][j] == 1:\n",
    "            break\n",
    "\n",
    "    moves = abs(2 - X) + abs(2 - y)\n",
    "    print(moves)\n",
    "getmoves(matrix)"
   ]
  },
  {
   "cell_type": "code",
   "execution_count": 29,
   "metadata": {},
   "outputs": [
    {
     "name": "stdout",
     "output_type": "stream",
     "text": [
      "GBGGB\n"
     ]
    }
   ],
   "source": [
    "def queueatschool():\n",
    "    n, t = map(int, input().split())\n",
    "    s = input().strip()\n",
    "    for _ in range(t):\n",
    "        s = s.replace('BG', 'GB')\n",
    "    print(s)\n",
    "queueatschool()"
   ]
  },
  {
   "cell_type": "code",
   "execution_count": null,
   "metadata": {},
   "outputs": [],
   "source": []
  }
 ],
 "metadata": {
  "kernelspec": {
   "display_name": "torch2",
   "language": "python",
   "name": "torch2"
  },
  "language_info": {
   "codemirror_mode": {
    "name": "ipython",
    "version": 3
   },
   "file_extension": ".py",
   "mimetype": "text/x-python",
   "name": "python",
   "nbconvert_exporter": "python",
   "pygments_lexer": "ipython3",
   "version": "3.11.4"
  }
 },
 "nbformat": 4,
 "nbformat_minor": 2
}
