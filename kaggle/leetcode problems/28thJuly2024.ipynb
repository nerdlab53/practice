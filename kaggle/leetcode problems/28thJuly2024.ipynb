{
 "cells": [
  {
   "cell_type": "markdown",
   "metadata": {},
   "source": [
    "### CF - A. Dima and Friends Round 167 (Div. 2) (Rated : 1000)"
   ]
  },
  {
   "cell_type": "code",
   "execution_count": null,
   "metadata": {},
   "outputs": [],
   "source": [
    "n = int(input())\n",
    "friends_fingers = list(map(int, input().split()))\n",
    "total_friends_fingers = sum(friends_fingers)\n",
    "\n",
    "options = 0\n",
    "\n",
    "for dima_fingers in range(1, 6):\n",
    "    total_fingers = total_friends_fingers + dima_fingers\n",
    "    if total_fingers % (n + 1) != 1:\n",
    "        options += 1\n",
    "print(options)"
   ]
  }
 ],
 "metadata": {
  "language_info": {
   "name": "python"
  }
 },
 "nbformat": 4,
 "nbformat_minor": 2
}
