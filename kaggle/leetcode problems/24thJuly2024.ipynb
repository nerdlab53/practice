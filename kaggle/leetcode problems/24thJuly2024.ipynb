{
 "cells": [
  {
   "cell_type": "code",
   "execution_count": 1,
   "metadata": {},
   "outputs": [],
   "source": [
    "from typing import List"
   ]
  },
  {
   "cell_type": "code",
   "execution_count": 13,
   "metadata": {},
   "outputs": [],
   "source": [
    "class Solutions:\n",
    "    def change_nums(self, num, map_dict) -> int:\n",
    "        return int(''.join(str(map_dict.get(int(d), d)) for d in str(num)))\n",
    "\n",
    "    def sortJumbled(self, mapping: List[int], nums: List[int]) -> List[int]:\n",
    "        map_dict = {i : mapping[i] for i in mapping}\n",
    "\n",
    "        def sort_key(n):\n",
    "            return self.change_nums(n, map_dict)\n",
    "        return sorted(nums, key=sort_key)"
   ]
  },
  {
   "cell_type": "code",
   "execution_count": 14,
   "metadata": {},
   "outputs": [
    {
     "data": {
      "text/plain": [
       "[338, 38, 991]"
      ]
     },
     "execution_count": 14,
     "metadata": {},
     "output_type": "execute_result"
    }
   ],
   "source": [
    "mapping = [8,9,4,0,2,1,3,5,7,6]\n",
    "nums = [991,338,38]\n",
    "solve = Solutions()\n",
    "ans = solve.sortJumbled(mapping, nums)\n",
    "ans"
   ]
  },
  {
   "cell_type": "code",
   "execution_count": 18,
   "metadata": {},
   "outputs": [
    {
     "ename": "ValueError",
     "evalue": "invalid literal for int() with base 10: ''",
     "output_type": "error",
     "traceback": [
      "\u001b[0;31m---------------------------------------------------------------------------\u001b[0m",
      "\u001b[0;31mValueError\u001b[0m                                Traceback (most recent call last)",
      "Cell \u001b[0;32mIn[18], line 9\u001b[0m\n\u001b[1;32m      5\u001b[0m     total_z \u001b[38;5;241m=\u001b[39m \u001b[38;5;28msum\u001b[39m(force[\u001b[38;5;241m2\u001b[39m] \u001b[38;5;28;01mfor\u001b[39;00m force \u001b[38;5;129;01min\u001b[39;00m forces)\n\u001b[1;32m      7\u001b[0m     \u001b[38;5;28;01mreturn\u001b[39;00m total_x\u001b[38;5;241m==\u001b[39m\u001b[38;5;241m0\u001b[39m \u001b[38;5;129;01mand\u001b[39;00m total_y\u001b[38;5;241m==\u001b[39m\u001b[38;5;241m0\u001b[39m \u001b[38;5;129;01mand\u001b[39;00m total_z\u001b[38;5;241m==\u001b[39m\u001b[38;5;241m0\u001b[39m\n\u001b[0;32m----> 9\u001b[0m n \u001b[38;5;241m=\u001b[39m \u001b[38;5;28mint\u001b[39m(\u001b[38;5;28minput\u001b[39m())\n\u001b[1;32m     10\u001b[0m forces \u001b[38;5;241m=\u001b[39m []\n\u001b[1;32m     12\u001b[0m \u001b[38;5;28;01mfor\u001b[39;00m _ \u001b[38;5;129;01min\u001b[39;00m \u001b[38;5;28mrange\u001b[39m(n):\n",
      "\u001b[0;31mValueError\u001b[0m: invalid literal for int() with base 10: ''"
     ]
    }
   ],
   "source": [
    "## Young Scientist CodeForces\n",
    "def check_equilibrium(forces):\n",
    "    total_x = sum(force[0] for force in forces)\n",
    "    total_y = sum(force[1] for force in forces)\n",
    "    total_z = sum(force[2] for force in forces)\n",
    "\n",
    "    return total_x==0 and total_y==0 and total_z==0\n",
    "\n",
    "n = int(input())\n",
    "forces = []\n",
    "\n",
    "for _ in range(n):\n",
    "    x, y, z = map(int, input().split())\n",
    "    forces.append((x,y,z))\n",
    "if check_equilibrium(forces):\n",
    "    print(\"YES\")\n",
    "else:\n",
    "    print(\"NO\")"
   ]
  },
  {
   "cell_type": "code",
   "execution_count": null,
   "metadata": {},
   "outputs": [],
   "source": []
  }
 ],
 "metadata": {
  "kernelspec": {
   "display_name": "torch2",
   "language": "python",
   "name": "torch2"
  },
  "language_info": {
   "codemirror_mode": {
    "name": "ipython",
    "version": 3
   },
   "file_extension": ".py",
   "mimetype": "text/x-python",
   "name": "python",
   "nbconvert_exporter": "python",
   "pygments_lexer": "ipython3",
   "version": "3.11.4"
  }
 },
 "nbformat": 4,
 "nbformat_minor": 2
}
