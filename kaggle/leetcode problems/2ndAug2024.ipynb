{
 "cells": [
  {
   "cell_type": "markdown",
   "metadata": {},
   "source": [
    "### CF - A. Supercentral Point Round 112 (Div.2)"
   ]
  },
  {
   "cell_type": "code",
   "execution_count": null,
   "metadata": {},
   "outputs": [],
   "source": [
    "def supercentral():\n",
    "    n = int(input())\n",
    "    points = set()\n",
    "    for _ in range(n):\n",
    "        x, y = map(int, input().split())\n",
    "        points.add((x, y))\n",
    "    supercentral_pts = 0\n",
    "    for x, y in points:\n",
    "        right = left = upper = lower = False\n",
    "        for x_, y_ in points:\n",
    "            if x_ > x and y_ == y:\n",
    "                right = True\n",
    "            elif x_ < x and y_ == y:\n",
    "                left = True\n",
    "            elif x_ == x and y_ > y:\n",
    "                upper = True\n",
    "            elif x_ == x and y_ < y:\n",
    "                lower = True\n",
    "        if right == left == upper == lower == True:\n",
    "            supercentral_pts += 1\n",
    "    return supercentral_pts\n",
    "print(supercentral())"
   ]
  }
 ],
 "metadata": {
  "language_info": {
   "name": "python"
  }
 },
 "nbformat": 4,
 "nbformat_minor": 2
}
