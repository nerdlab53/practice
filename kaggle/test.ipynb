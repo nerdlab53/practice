{
 "cells": [
  {
   "cell_type": "code",
   "execution_count": 15,
   "metadata": {},
   "outputs": [],
   "source": [
    "import numpy as np\n",
    "import math\n",
    "r = 25\n",
    "array = np.array(shape=(5,1))"
   ]
  },
  {
   "cell_type": "code",
   "execution_count": 35,
   "metadata": {},
   "outputs": [
    {
     "data": {
      "text/plain": [
       "5"
      ]
     },
     "execution_count": 35,
     "metadata": {},
     "output_type": "execute_result"
    }
   ],
   "source": [
    "len(ans)"
   ]
  },
  {
   "cell_type": "code",
   "execution_count": 41,
   "metadata": {},
   "outputs": [
    {
     "data": {
      "text/plain": [
       "array([ 1,  2,  3,  4,  5,  6,  7,  8,  9, 10, 11, 12, 13, 14, 15, 16, 17,\n",
       "       18, 19, 20, 21, 22, 23, 24])"
      ]
     },
     "execution_count": 41,
     "metadata": {},
     "output_type": "execute_result"
    }
   ],
   "source": [
    "start = np.arange(1, 25)\n",
    "start"
   ]
  },
  {
   "cell_type": "code",
   "execution_count": 47,
   "metadata": {},
   "outputs": [],
   "source": []
  },
  {
   "cell_type": "code",
   "execution_count": 48,
   "metadata": {},
   "outputs": [
    {
     "data": {
      "text/plain": [
       "[array([1, 2, 3, 4, 5]),\n",
       " array([ 6,  7,  8,  9, 10]),\n",
       " array([11, 12, 13, 14, 15]),\n",
       " array([16, 17, 18, 19, 20]),\n",
       " array([21, 22, 23, 24, 25])]"
      ]
     },
     "execution_count": 48,
     "metadata": {},
     "output_type": "execute_result"
    }
   ],
   "source": []
  },
  {
   "cell_type": "code",
   "execution_count": 99,
   "metadata": {},
   "outputs": [],
   "source": [
    "def print_pattern(r):\n",
    "    rows, cols = int(math.floor(math.sqrt(r))), int(math.floor(math.sqrt(r)))\n",
    "    small_ans = np.zeros((rows, cols))\n",
    "    final = []\n",
    "    start = np.arange(1, r+1)\n",
    "    intermed_ans = [start[i:i+rows] for i in range(0, len(start), rows)]\n",
    "    for idx, _ in enumerate(intermed_ans):\n",
    "        if (idx+1) % 2 == 0:\n",
    "            final.append(intermed_ans[idx][::-1])\n",
    "        else:\n",
    "            final.append(intermed_ans[idx])\n",
    "    ans = np.array(final).transpose()\n",
    "    row, col = ans.shape\n",
    "    for i in range(row):\n",
    "        for j in range(col):\n",
    "            print(ans[i][j], end=' ')\n",
    "        print(' ')"
   ]
  },
  {
   "cell_type": "code",
   "execution_count": 100,
   "metadata": {},
   "outputs": [
    {
     "name": "stdout",
     "output_type": "stream",
     "text": [
      "1 32 33 64 65 96 97 128 129 160 161 192 193 224 225 256  \n",
      "2 31 34 63 66 95 98 127 130 159 162 191 194 223 226 255  \n",
      "3 30 35 62 67 94 99 126 131 158 163 190 195 222 227 254  \n",
      "4 29 36 61 68 93 100 125 132 157 164 189 196 221 228 253  \n",
      "5 28 37 60 69 92 101 124 133 156 165 188 197 220 229 252  \n",
      "6 27 38 59 70 91 102 123 134 155 166 187 198 219 230 251  \n",
      "7 26 39 58 71 90 103 122 135 154 167 186 199 218 231 250  \n",
      "8 25 40 57 72 89 104 121 136 153 168 185 200 217 232 249  \n",
      "9 24 41 56 73 88 105 120 137 152 169 184 201 216 233 248  \n",
      "10 23 42 55 74 87 106 119 138 151 170 183 202 215 234 247  \n",
      "11 22 43 54 75 86 107 118 139 150 171 182 203 214 235 246  \n",
      "12 21 44 53 76 85 108 117 140 149 172 181 204 213 236 245  \n",
      "13 20 45 52 77 84 109 116 141 148 173 180 205 212 237 244  \n",
      "14 19 46 51 78 83 110 115 142 147 174 179 206 211 238 243  \n",
      "15 18 47 50 79 82 111 114 143 146 175 178 207 210 239 242  \n",
      "16 17 48 49 80 81 112 113 144 145 176 177 208 209 240 241  \n"
     ]
    }
   ],
   "source": [
    "n = 256\n",
    "print_pattern(n)"
   ]
  },
  {
   "cell_type": "code",
   "execution_count": null,
   "metadata": {},
   "outputs": [],
   "source": []
  }
 ],
 "metadata": {
  "kernelspec": {
   "display_name": "torch2",
   "language": "python",
   "name": "torch2"
  },
  "language_info": {
   "codemirror_mode": {
    "name": "ipython",
    "version": 3
   },
   "file_extension": ".py",
   "mimetype": "text/x-python",
   "name": "python",
   "nbconvert_exporter": "python",
   "pygments_lexer": "ipython3",
   "version": "3.11.4"
  }
 },
 "nbformat": 4,
 "nbformat_minor": 2
}
